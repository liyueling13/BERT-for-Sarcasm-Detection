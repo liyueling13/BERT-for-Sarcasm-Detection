{
  "cells": [
    {
      "cell_type": "markdown",
      "metadata": {
        "id": "view-in-github",
        "colab_type": "text"
      },
      "source": [
        "<a href=\"https://colab.research.google.com/github/liyueling13/BERT-for-Sarcasm-Detection/blob/main/Sarcasm_EDA.ipynb\" target=\"_parent\"><img src=\"https://colab.research.google.com/assets/colab-badge.svg\" alt=\"Open In Colab\"/></a>"
      ]
    },
    {
      "cell_type": "markdown",
      "metadata": {
        "id": "QKvpqYeL-OgY"
      },
      "source": [
        "# Sarcasm -- Exploratory Data Analysis, October 2023\n",
        "Data from here: https://nlp.cs.princeton.edu/old/SARC/1.0/main/\n",
        "\n",
        "*   Go to the \"main\" directory (not pol)\n",
        "*   Get the train and test balanced csv.bz2\n",
        "*   To run it in Google Colab: upload the zip (bz2) file to google drive and extract it using the zip extractor. If you extract it on the computer and then upload the csv file, it won't open/upload for some reason.\n",
        "\n",
        "\n",
        "\n"
      ]
    },
    {
      "cell_type": "markdown",
      "metadata": {
        "id": "aNl0CHjWUQf8"
      },
      "source": [
        "# Setup"
      ]
    },
    {
      "cell_type": "code",
      "execution_count": 2,
      "metadata": {
        "colab": {
          "base_uri": "https://localhost:8080/"
        },
        "id": "gExxjx5__BBj",
        "outputId": "1291249a-b0dc-479e-ae4f-96c7e04a33c7"
      },
      "outputs": [
        {
          "output_type": "stream",
          "name": "stdout",
          "text": [
            "Drive already mounted at /content/drive; to attempt to forcibly remount, call drive.mount(\"/content/drive\", force_remount=True).\n"
          ]
        }
      ],
      "source": [
        "from google.colab import drive\n",
        "drive.mount('/content/drive')"
      ]
    },
    {
      "cell_type": "code",
      "execution_count": 3,
      "metadata": {
        "id": "HYkgOsum_D-z"
      },
      "outputs": [],
      "source": [
        "import os\n",
        "os.chdir('/content/drive/My Drive/Data Science/Springboard assignments/Capstone Three')"
      ]
    },
    {
      "cell_type": "code",
      "execution_count": 4,
      "metadata": {
        "id": "ow6zeJZC-G2V"
      },
      "outputs": [],
      "source": [
        "import matplotlib.pyplot as plt\n",
        "import seaborn as sns\n",
        "import pandas as pd"
      ]
    },
    {
      "cell_type": "markdown",
      "metadata": {
        "id": "sv5s9zxzULk6"
      },
      "source": [
        "# Load and clean data"
      ]
    },
    {
      "cell_type": "code",
      "execution_count": 5,
      "metadata": {
        "id": "fzB_lcBs-fqV"
      },
      "outputs": [],
      "source": [
        "sarc_train = pd.read_csv('train-balanced.csv', delimiter='\\t', header=None)\n",
        "sarc_test = pd.read_csv('test-balanced.csv', delimiter='\\t', header=None)"
      ]
    },
    {
      "cell_type": "code",
      "execution_count": 6,
      "metadata": {
        "id": "P8y8CgeFJ2uw"
      },
      "outputs": [],
      "source": [
        "columns = ['label',\t'comment',\t'author',\t'subreddit',\t'score',\t'ups',\t'downs',\t'date',\t'created_utc',\t'parent_comment']\n",
        "sarc_train.columns = columns\n",
        "sarc_test.columns = columns\n",
        "# sarc_df"
      ]
    },
    {
      "cell_type": "code",
      "execution_count": 7,
      "metadata": {
        "colab": {
          "base_uri": "https://localhost:8080/"
        },
        "id": "CDl5m0K8HfvS",
        "outputId": "d7e6e7de-3e49-4aa5-848d-88629c1b641e"
      },
      "outputs": [
        {
          "output_type": "execute_result",
          "data": {
            "text/plain": [
              "(0    562839\n",
              " 1    562839\n",
              " Name: label, dtype: int64,\n",
              " 0    141667\n",
              " 1    141667\n",
              " Name: label, dtype: int64)"
            ]
          },
          "metadata": {},
          "execution_count": 7
        }
      ],
      "source": [
        "sarc_train.label.value_counts(), sarc_test.label.value_counts()"
      ]
    },
    {
      "cell_type": "code",
      "execution_count": 8,
      "metadata": {
        "colab": {
          "base_uri": "https://localhost:8080/"
        },
        "id": "makN5Aw2Qstz",
        "outputId": "65fc258f-1db6-4159-9f97-d87e8c1702e2"
      },
      "outputs": [
        {
          "output_type": "execute_result",
          "data": {
            "text/plain": [
              "(1    562836\n",
              " 0    562833\n",
              " Name: label, dtype: int64,\n",
              " 0    141666\n",
              " 1    141666\n",
              " Name: label, dtype: int64)"
            ]
          },
          "metadata": {},
          "execution_count": 8
        }
      ],
      "source": [
        "sarc_train.dropna(inplace=True)\n",
        "sarc_test.dropna(inplace=True)\n",
        "\n",
        "sarc_train.label.value_counts(), sarc_test.label.value_counts()"
      ]
    },
    {
      "cell_type": "code",
      "execution_count": 9,
      "metadata": {
        "id": "wc7gwObbNeD7",
        "colab": {
          "base_uri": "https://localhost:8080/",
          "height": 1000
        },
        "outputId": "b17f9b72-e160-402a-cf22-ec7fdb4de649"
      },
      "outputs": [
        {
          "output_type": "execute_result",
          "data": {
            "text/plain": [
              "    label                                            comment           author  \\\n",
              "0       0                                   Dang dog, thanks       Mattys1174   \n",
              "1       0  to summon the powers of the flying spaghetti m...       yugiohhero   \n",
              "2       0       i did that 3rd last 1 by accident last night       yugiohhero   \n",
              "3       0  He's insane, used him in DC, better than Blake...     masternater6   \n",
              "4       0  Forgot about him, he's a pretty pointless card...     masternater6   \n",
              "5       0                                                hey         topshrek   \n",
              "6       0                                              yeah?         topshrek   \n",
              "7       0                                               okay         kstar891   \n",
              "8       0                                      Condensation?  GravelordDeNito   \n",
              "9       0                                What type of juice?          gabriey   \n",
              "10      0                                   #WOMAN SPREADING      holaemailer   \n",
              "11      0  You don't see it comming 9/10 times so the rea...     GonthorianDX   \n",
              "12      0  I don't see the FFCP recommended often but dam...   damnyouheathen   \n",
              "13      0  As if traffic in Philly wasn't bad enough with...            zpedv   \n",
              "14      0  Interesting... so you think they are setting a...         padishar   \n",
              "15      0  Sorry an Xbox is worth more than a trading lobby.        Jamesd420   \n",
              "16      0  HCR makes the gun broken in a lot of sense Mak...       BillehBear   \n",
              "17      0  You thought Bannon was President, but it was m...        Binturung   \n",
              "18      0  There isn't a big enough skill difference betw...        Volacrity   \n",
              "19      0  Damnit Houda come back, Sacco is not the coach...   Germanhammer05   \n",
              "\n",
              "               subreddit  score  ups  downs     date  created_utc  \\\n",
              "0                 NHLHUT      1   -1     -1  2017-03   1490927299   \n",
              "1          CringeAnarchy      1   -1     -1  2017-02   1486349313   \n",
              "2        TownofSalemgame      8   -1     -1  2017-03   1488514232   \n",
              "3                 NHLHUT      1   -1     -1  2017-02   1486097950   \n",
              "4                 NHLHUT      1   -1     -1  2017-04   1491597507   \n",
              "5              teenagers      1   -1     -1  2017-02   1487298614   \n",
              "6              teenagers      1   -1     -1  2017-03   1489026000   \n",
              "7   RocketLeagueExchange      2   -1     -1  2017-02   1487891403   \n",
              "8         stevenuniverse     11   -1     -1  2016-11   1479432294   \n",
              "9              teenagers      3   -1     -1  2017-03   1490578132   \n",
              "10                  rage     83   -1     -1  2017-04   1492122114   \n",
              "11              forhonor      2   -1     -1  2017-02   1488208135   \n",
              "12            3Dprinting      2   -1     -1  2017-02   1486763902   \n",
              "13              politics      2   -1     -1  2016-11   1478430867   \n",
              "14            The_Donald      3   -1     -1  2017-03   1488554775   \n",
              "15  RocketLeagueExchange     12   -1     -1  2017-02   1487568882   \n",
              "16        DestinyTheGame      3   -1     -1  2016-11   1479148049   \n",
              "17            The_Donald     29   -1     -1  2017-02   1485911005   \n",
              "18         bostonceltics      1   -1     -1  2017-03   1488566362   \n",
              "19                hockey      3   -1     -1  2017-04   1491785061   \n",
              "\n",
              "                                       parent_comment  \n",
              "0                              Great guess! Congrats!  \n",
              "1     can anynone explain what cash me outside means?  \n",
              "2                        I have seen all these things  \n",
              "3   ASG Weber review request Looking to pick him u...  \n",
              "4               Modano at least plays to his overall.  \n",
              "5                   Give a user a superlative thread!  \n",
              "6                                           Cute? ._.  \n",
              "7                  Invite me when done? PSN: Flugfisk  \n",
              "8   With Garnet, Amethyst, and Pearl sweating bull...  \n",
              "9                I finished 3 separate boxes of juice  \n",
              "10  Backpacker refused move her 'smelly feet' from...  \n",
              "11               Isn't it easily side-stepped though?  \n",
              "12  I don't get to use it often, but I love a good...  \n",
              "13  Tuesday in Philly: Hillary Clinton, President ...  \n",
              "14  This is the chess move being pushed by Issa, T...  \n",
              "15                                   trade lobby Xbox  \n",
              "16  i see everyone like HCR. doesn't it make it ha...  \n",
              "17  Any moment now: \"Jeb! has been pulling the str...  \n",
              "18  Did you just ask if 11 out of 12 players on a ...  \n",
              "19  Game Thread: New Jersey Devils (28-39-14) vs. ...  "
            ],
            "text/html": [
              "\n",
              "  <div id=\"df-ab170178-c07a-4f85-918e-3627fb9572ad\" class=\"colab-df-container\">\n",
              "    <div>\n",
              "<style scoped>\n",
              "    .dataframe tbody tr th:only-of-type {\n",
              "        vertical-align: middle;\n",
              "    }\n",
              "\n",
              "    .dataframe tbody tr th {\n",
              "        vertical-align: top;\n",
              "    }\n",
              "\n",
              "    .dataframe thead th {\n",
              "        text-align: right;\n",
              "    }\n",
              "</style>\n",
              "<table border=\"1\" class=\"dataframe\">\n",
              "  <thead>\n",
              "    <tr style=\"text-align: right;\">\n",
              "      <th></th>\n",
              "      <th>label</th>\n",
              "      <th>comment</th>\n",
              "      <th>author</th>\n",
              "      <th>subreddit</th>\n",
              "      <th>score</th>\n",
              "      <th>ups</th>\n",
              "      <th>downs</th>\n",
              "      <th>date</th>\n",
              "      <th>created_utc</th>\n",
              "      <th>parent_comment</th>\n",
              "    </tr>\n",
              "  </thead>\n",
              "  <tbody>\n",
              "    <tr>\n",
              "      <th>0</th>\n",
              "      <td>0</td>\n",
              "      <td>Dang dog, thanks</td>\n",
              "      <td>Mattys1174</td>\n",
              "      <td>NHLHUT</td>\n",
              "      <td>1</td>\n",
              "      <td>-1</td>\n",
              "      <td>-1</td>\n",
              "      <td>2017-03</td>\n",
              "      <td>1490927299</td>\n",
              "      <td>Great guess! Congrats!</td>\n",
              "    </tr>\n",
              "    <tr>\n",
              "      <th>1</th>\n",
              "      <td>0</td>\n",
              "      <td>to summon the powers of the flying spaghetti m...</td>\n",
              "      <td>yugiohhero</td>\n",
              "      <td>CringeAnarchy</td>\n",
              "      <td>1</td>\n",
              "      <td>-1</td>\n",
              "      <td>-1</td>\n",
              "      <td>2017-02</td>\n",
              "      <td>1486349313</td>\n",
              "      <td>can anynone explain what cash me outside means?</td>\n",
              "    </tr>\n",
              "    <tr>\n",
              "      <th>2</th>\n",
              "      <td>0</td>\n",
              "      <td>i did that 3rd last 1 by accident last night</td>\n",
              "      <td>yugiohhero</td>\n",
              "      <td>TownofSalemgame</td>\n",
              "      <td>8</td>\n",
              "      <td>-1</td>\n",
              "      <td>-1</td>\n",
              "      <td>2017-03</td>\n",
              "      <td>1488514232</td>\n",
              "      <td>I have seen all these things</td>\n",
              "    </tr>\n",
              "    <tr>\n",
              "      <th>3</th>\n",
              "      <td>0</td>\n",
              "      <td>He's insane, used him in DC, better than Blake...</td>\n",
              "      <td>masternater6</td>\n",
              "      <td>NHLHUT</td>\n",
              "      <td>1</td>\n",
              "      <td>-1</td>\n",
              "      <td>-1</td>\n",
              "      <td>2017-02</td>\n",
              "      <td>1486097950</td>\n",
              "      <td>ASG Weber review request Looking to pick him u...</td>\n",
              "    </tr>\n",
              "    <tr>\n",
              "      <th>4</th>\n",
              "      <td>0</td>\n",
              "      <td>Forgot about him, he's a pretty pointless card...</td>\n",
              "      <td>masternater6</td>\n",
              "      <td>NHLHUT</td>\n",
              "      <td>1</td>\n",
              "      <td>-1</td>\n",
              "      <td>-1</td>\n",
              "      <td>2017-04</td>\n",
              "      <td>1491597507</td>\n",
              "      <td>Modano at least plays to his overall.</td>\n",
              "    </tr>\n",
              "    <tr>\n",
              "      <th>5</th>\n",
              "      <td>0</td>\n",
              "      <td>hey</td>\n",
              "      <td>topshrek</td>\n",
              "      <td>teenagers</td>\n",
              "      <td>1</td>\n",
              "      <td>-1</td>\n",
              "      <td>-1</td>\n",
              "      <td>2017-02</td>\n",
              "      <td>1487298614</td>\n",
              "      <td>Give a user a superlative thread!</td>\n",
              "    </tr>\n",
              "    <tr>\n",
              "      <th>6</th>\n",
              "      <td>0</td>\n",
              "      <td>yeah?</td>\n",
              "      <td>topshrek</td>\n",
              "      <td>teenagers</td>\n",
              "      <td>1</td>\n",
              "      <td>-1</td>\n",
              "      <td>-1</td>\n",
              "      <td>2017-03</td>\n",
              "      <td>1489026000</td>\n",
              "      <td>Cute? ._.</td>\n",
              "    </tr>\n",
              "    <tr>\n",
              "      <th>7</th>\n",
              "      <td>0</td>\n",
              "      <td>okay</td>\n",
              "      <td>kstar891</td>\n",
              "      <td>RocketLeagueExchange</td>\n",
              "      <td>2</td>\n",
              "      <td>-1</td>\n",
              "      <td>-1</td>\n",
              "      <td>2017-02</td>\n",
              "      <td>1487891403</td>\n",
              "      <td>Invite me when done? PSN: Flugfisk</td>\n",
              "    </tr>\n",
              "    <tr>\n",
              "      <th>8</th>\n",
              "      <td>0</td>\n",
              "      <td>Condensation?</td>\n",
              "      <td>GravelordDeNito</td>\n",
              "      <td>stevenuniverse</td>\n",
              "      <td>11</td>\n",
              "      <td>-1</td>\n",
              "      <td>-1</td>\n",
              "      <td>2016-11</td>\n",
              "      <td>1479432294</td>\n",
              "      <td>With Garnet, Amethyst, and Pearl sweating bull...</td>\n",
              "    </tr>\n",
              "    <tr>\n",
              "      <th>9</th>\n",
              "      <td>0</td>\n",
              "      <td>What type of juice?</td>\n",
              "      <td>gabriey</td>\n",
              "      <td>teenagers</td>\n",
              "      <td>3</td>\n",
              "      <td>-1</td>\n",
              "      <td>-1</td>\n",
              "      <td>2017-03</td>\n",
              "      <td>1490578132</td>\n",
              "      <td>I finished 3 separate boxes of juice</td>\n",
              "    </tr>\n",
              "    <tr>\n",
              "      <th>10</th>\n",
              "      <td>0</td>\n",
              "      <td>#WOMAN SPREADING</td>\n",
              "      <td>holaemailer</td>\n",
              "      <td>rage</td>\n",
              "      <td>83</td>\n",
              "      <td>-1</td>\n",
              "      <td>-1</td>\n",
              "      <td>2017-04</td>\n",
              "      <td>1492122114</td>\n",
              "      <td>Backpacker refused move her 'smelly feet' from...</td>\n",
              "    </tr>\n",
              "    <tr>\n",
              "      <th>11</th>\n",
              "      <td>0</td>\n",
              "      <td>You don't see it comming 9/10 times so the rea...</td>\n",
              "      <td>GonthorianDX</td>\n",
              "      <td>forhonor</td>\n",
              "      <td>2</td>\n",
              "      <td>-1</td>\n",
              "      <td>-1</td>\n",
              "      <td>2017-02</td>\n",
              "      <td>1488208135</td>\n",
              "      <td>Isn't it easily side-stepped though?</td>\n",
              "    </tr>\n",
              "    <tr>\n",
              "      <th>12</th>\n",
              "      <td>0</td>\n",
              "      <td>I don't see the FFCP recommended often but dam...</td>\n",
              "      <td>damnyouheathen</td>\n",
              "      <td>3Dprinting</td>\n",
              "      <td>2</td>\n",
              "      <td>-1</td>\n",
              "      <td>-1</td>\n",
              "      <td>2017-02</td>\n",
              "      <td>1486763902</td>\n",
              "      <td>I don't get to use it often, but I love a good...</td>\n",
              "    </tr>\n",
              "    <tr>\n",
              "      <th>13</th>\n",
              "      <td>0</td>\n",
              "      <td>As if traffic in Philly wasn't bad enough with...</td>\n",
              "      <td>zpedv</td>\n",
              "      <td>politics</td>\n",
              "      <td>2</td>\n",
              "      <td>-1</td>\n",
              "      <td>-1</td>\n",
              "      <td>2016-11</td>\n",
              "      <td>1478430867</td>\n",
              "      <td>Tuesday in Philly: Hillary Clinton, President ...</td>\n",
              "    </tr>\n",
              "    <tr>\n",
              "      <th>14</th>\n",
              "      <td>0</td>\n",
              "      <td>Interesting... so you think they are setting a...</td>\n",
              "      <td>padishar</td>\n",
              "      <td>The_Donald</td>\n",
              "      <td>3</td>\n",
              "      <td>-1</td>\n",
              "      <td>-1</td>\n",
              "      <td>2017-03</td>\n",
              "      <td>1488554775</td>\n",
              "      <td>This is the chess move being pushed by Issa, T...</td>\n",
              "    </tr>\n",
              "    <tr>\n",
              "      <th>15</th>\n",
              "      <td>0</td>\n",
              "      <td>Sorry an Xbox is worth more than a trading lobby.</td>\n",
              "      <td>Jamesd420</td>\n",
              "      <td>RocketLeagueExchange</td>\n",
              "      <td>12</td>\n",
              "      <td>-1</td>\n",
              "      <td>-1</td>\n",
              "      <td>2017-02</td>\n",
              "      <td>1487568882</td>\n",
              "      <td>trade lobby Xbox</td>\n",
              "    </tr>\n",
              "    <tr>\n",
              "      <th>16</th>\n",
              "      <td>0</td>\n",
              "      <td>HCR makes the gun broken in a lot of sense Mak...</td>\n",
              "      <td>BillehBear</td>\n",
              "      <td>DestinyTheGame</td>\n",
              "      <td>3</td>\n",
              "      <td>-1</td>\n",
              "      <td>-1</td>\n",
              "      <td>2016-11</td>\n",
              "      <td>1479148049</td>\n",
              "      <td>i see everyone like HCR. doesn't it make it ha...</td>\n",
              "    </tr>\n",
              "    <tr>\n",
              "      <th>17</th>\n",
              "      <td>0</td>\n",
              "      <td>You thought Bannon was President, but it was m...</td>\n",
              "      <td>Binturung</td>\n",
              "      <td>The_Donald</td>\n",
              "      <td>29</td>\n",
              "      <td>-1</td>\n",
              "      <td>-1</td>\n",
              "      <td>2017-02</td>\n",
              "      <td>1485911005</td>\n",
              "      <td>Any moment now: \"Jeb! has been pulling the str...</td>\n",
              "    </tr>\n",
              "    <tr>\n",
              "      <th>18</th>\n",
              "      <td>0</td>\n",
              "      <td>There isn't a big enough skill difference betw...</td>\n",
              "      <td>Volacrity</td>\n",
              "      <td>bostonceltics</td>\n",
              "      <td>1</td>\n",
              "      <td>-1</td>\n",
              "      <td>-1</td>\n",
              "      <td>2017-03</td>\n",
              "      <td>1488566362</td>\n",
              "      <td>Did you just ask if 11 out of 12 players on a ...</td>\n",
              "    </tr>\n",
              "    <tr>\n",
              "      <th>19</th>\n",
              "      <td>0</td>\n",
              "      <td>Damnit Houda come back, Sacco is not the coach...</td>\n",
              "      <td>Germanhammer05</td>\n",
              "      <td>hockey</td>\n",
              "      <td>3</td>\n",
              "      <td>-1</td>\n",
              "      <td>-1</td>\n",
              "      <td>2017-04</td>\n",
              "      <td>1491785061</td>\n",
              "      <td>Game Thread: New Jersey Devils (28-39-14) vs. ...</td>\n",
              "    </tr>\n",
              "  </tbody>\n",
              "</table>\n",
              "</div>\n",
              "    <div class=\"colab-df-buttons\">\n",
              "\n",
              "  <div class=\"colab-df-container\">\n",
              "    <button class=\"colab-df-convert\" onclick=\"convertToInteractive('df-ab170178-c07a-4f85-918e-3627fb9572ad')\"\n",
              "            title=\"Convert this dataframe to an interactive table.\"\n",
              "            style=\"display:none;\">\n",
              "\n",
              "  <svg xmlns=\"http://www.w3.org/2000/svg\" height=\"24px\" viewBox=\"0 -960 960 960\">\n",
              "    <path d=\"M120-120v-720h720v720H120Zm60-500h600v-160H180v160Zm220 220h160v-160H400v160Zm0 220h160v-160H400v160ZM180-400h160v-160H180v160Zm440 0h160v-160H620v160ZM180-180h160v-160H180v160Zm440 0h160v-160H620v160Z\"/>\n",
              "  </svg>\n",
              "    </button>\n",
              "\n",
              "  <style>\n",
              "    .colab-df-container {\n",
              "      display:flex;\n",
              "      gap: 12px;\n",
              "    }\n",
              "\n",
              "    .colab-df-convert {\n",
              "      background-color: #E8F0FE;\n",
              "      border: none;\n",
              "      border-radius: 50%;\n",
              "      cursor: pointer;\n",
              "      display: none;\n",
              "      fill: #1967D2;\n",
              "      height: 32px;\n",
              "      padding: 0 0 0 0;\n",
              "      width: 32px;\n",
              "    }\n",
              "\n",
              "    .colab-df-convert:hover {\n",
              "      background-color: #E2EBFA;\n",
              "      box-shadow: 0px 1px 2px rgba(60, 64, 67, 0.3), 0px 1px 3px 1px rgba(60, 64, 67, 0.15);\n",
              "      fill: #174EA6;\n",
              "    }\n",
              "\n",
              "    .colab-df-buttons div {\n",
              "      margin-bottom: 4px;\n",
              "    }\n",
              "\n",
              "    [theme=dark] .colab-df-convert {\n",
              "      background-color: #3B4455;\n",
              "      fill: #D2E3FC;\n",
              "    }\n",
              "\n",
              "    [theme=dark] .colab-df-convert:hover {\n",
              "      background-color: #434B5C;\n",
              "      box-shadow: 0px 1px 3px 1px rgba(0, 0, 0, 0.15);\n",
              "      filter: drop-shadow(0px 1px 2px rgba(0, 0, 0, 0.3));\n",
              "      fill: #FFFFFF;\n",
              "    }\n",
              "  </style>\n",
              "\n",
              "    <script>\n",
              "      const buttonEl =\n",
              "        document.querySelector('#df-ab170178-c07a-4f85-918e-3627fb9572ad button.colab-df-convert');\n",
              "      buttonEl.style.display =\n",
              "        google.colab.kernel.accessAllowed ? 'block' : 'none';\n",
              "\n",
              "      async function convertToInteractive(key) {\n",
              "        const element = document.querySelector('#df-ab170178-c07a-4f85-918e-3627fb9572ad');\n",
              "        const dataTable =\n",
              "          await google.colab.kernel.invokeFunction('convertToInteractive',\n",
              "                                                    [key], {});\n",
              "        if (!dataTable) return;\n",
              "\n",
              "        const docLinkHtml = 'Like what you see? Visit the ' +\n",
              "          '<a target=\"_blank\" href=https://colab.research.google.com/notebooks/data_table.ipynb>data table notebook</a>'\n",
              "          + ' to learn more about interactive tables.';\n",
              "        element.innerHTML = '';\n",
              "        dataTable['output_type'] = 'display_data';\n",
              "        await google.colab.output.renderOutput(dataTable, element);\n",
              "        const docLink = document.createElement('div');\n",
              "        docLink.innerHTML = docLinkHtml;\n",
              "        element.appendChild(docLink);\n",
              "      }\n",
              "    </script>\n",
              "  </div>\n",
              "\n",
              "\n",
              "<div id=\"df-32533629-3932-4136-944a-5e34d4fd1362\">\n",
              "  <button class=\"colab-df-quickchart\" onclick=\"quickchart('df-32533629-3932-4136-944a-5e34d4fd1362')\"\n",
              "            title=\"Suggest charts.\"\n",
              "            style=\"display:none;\">\n",
              "\n",
              "<svg xmlns=\"http://www.w3.org/2000/svg\" height=\"24px\"viewBox=\"0 0 24 24\"\n",
              "     width=\"24px\">\n",
              "    <g>\n",
              "        <path d=\"M19 3H5c-1.1 0-2 .9-2 2v14c0 1.1.9 2 2 2h14c1.1 0 2-.9 2-2V5c0-1.1-.9-2-2-2zM9 17H7v-7h2v7zm4 0h-2V7h2v10zm4 0h-2v-4h2v4z\"/>\n",
              "    </g>\n",
              "</svg>\n",
              "  </button>\n",
              "\n",
              "<style>\n",
              "  .colab-df-quickchart {\n",
              "      --bg-color: #E8F0FE;\n",
              "      --fill-color: #1967D2;\n",
              "      --hover-bg-color: #E2EBFA;\n",
              "      --hover-fill-color: #174EA6;\n",
              "      --disabled-fill-color: #AAA;\n",
              "      --disabled-bg-color: #DDD;\n",
              "  }\n",
              "\n",
              "  [theme=dark] .colab-df-quickchart {\n",
              "      --bg-color: #3B4455;\n",
              "      --fill-color: #D2E3FC;\n",
              "      --hover-bg-color: #434B5C;\n",
              "      --hover-fill-color: #FFFFFF;\n",
              "      --disabled-bg-color: #3B4455;\n",
              "      --disabled-fill-color: #666;\n",
              "  }\n",
              "\n",
              "  .colab-df-quickchart {\n",
              "    background-color: var(--bg-color);\n",
              "    border: none;\n",
              "    border-radius: 50%;\n",
              "    cursor: pointer;\n",
              "    display: none;\n",
              "    fill: var(--fill-color);\n",
              "    height: 32px;\n",
              "    padding: 0;\n",
              "    width: 32px;\n",
              "  }\n",
              "\n",
              "  .colab-df-quickchart:hover {\n",
              "    background-color: var(--hover-bg-color);\n",
              "    box-shadow: 0 1px 2px rgba(60, 64, 67, 0.3), 0 1px 3px 1px rgba(60, 64, 67, 0.15);\n",
              "    fill: var(--button-hover-fill-color);\n",
              "  }\n",
              "\n",
              "  .colab-df-quickchart-complete:disabled,\n",
              "  .colab-df-quickchart-complete:disabled:hover {\n",
              "    background-color: var(--disabled-bg-color);\n",
              "    fill: var(--disabled-fill-color);\n",
              "    box-shadow: none;\n",
              "  }\n",
              "\n",
              "  .colab-df-spinner {\n",
              "    border: 2px solid var(--fill-color);\n",
              "    border-color: transparent;\n",
              "    border-bottom-color: var(--fill-color);\n",
              "    animation:\n",
              "      spin 1s steps(1) infinite;\n",
              "  }\n",
              "\n",
              "  @keyframes spin {\n",
              "    0% {\n",
              "      border-color: transparent;\n",
              "      border-bottom-color: var(--fill-color);\n",
              "      border-left-color: var(--fill-color);\n",
              "    }\n",
              "    20% {\n",
              "      border-color: transparent;\n",
              "      border-left-color: var(--fill-color);\n",
              "      border-top-color: var(--fill-color);\n",
              "    }\n",
              "    30% {\n",
              "      border-color: transparent;\n",
              "      border-left-color: var(--fill-color);\n",
              "      border-top-color: var(--fill-color);\n",
              "      border-right-color: var(--fill-color);\n",
              "    }\n",
              "    40% {\n",
              "      border-color: transparent;\n",
              "      border-right-color: var(--fill-color);\n",
              "      border-top-color: var(--fill-color);\n",
              "    }\n",
              "    60% {\n",
              "      border-color: transparent;\n",
              "      border-right-color: var(--fill-color);\n",
              "    }\n",
              "    80% {\n",
              "      border-color: transparent;\n",
              "      border-right-color: var(--fill-color);\n",
              "      border-bottom-color: var(--fill-color);\n",
              "    }\n",
              "    90% {\n",
              "      border-color: transparent;\n",
              "      border-bottom-color: var(--fill-color);\n",
              "    }\n",
              "  }\n",
              "</style>\n",
              "\n",
              "  <script>\n",
              "    async function quickchart(key) {\n",
              "      const quickchartButtonEl =\n",
              "        document.querySelector('#' + key + ' button');\n",
              "      quickchartButtonEl.disabled = true;  // To prevent multiple clicks.\n",
              "      quickchartButtonEl.classList.add('colab-df-spinner');\n",
              "      try {\n",
              "        const charts = await google.colab.kernel.invokeFunction(\n",
              "            'suggestCharts', [key], {});\n",
              "      } catch (error) {\n",
              "        console.error('Error during call to suggestCharts:', error);\n",
              "      }\n",
              "      quickchartButtonEl.classList.remove('colab-df-spinner');\n",
              "      quickchartButtonEl.classList.add('colab-df-quickchart-complete');\n",
              "    }\n",
              "    (() => {\n",
              "      let quickchartButtonEl =\n",
              "        document.querySelector('#df-32533629-3932-4136-944a-5e34d4fd1362 button');\n",
              "      quickchartButtonEl.style.display =\n",
              "        google.colab.kernel.accessAllowed ? 'block' : 'none';\n",
              "    })();\n",
              "  </script>\n",
              "</div>\n",
              "    </div>\n",
              "  </div>\n"
            ]
          },
          "metadata": {},
          "execution_count": 9
        }
      ],
      "source": [
        "sarc_train.head(20)"
      ]
    },
    {
      "cell_type": "code",
      "source": [
        "sarc_test.head(20)"
      ],
      "metadata": {
        "colab": {
          "base_uri": "https://localhost:8080/",
          "height": 1000
        },
        "id": "fGvbXrRuA04L",
        "outputId": "965602b7-8948-4831-ebd4-27a25420e3c6"
      },
      "execution_count": 10,
      "outputs": [
        {
          "output_type": "execute_result",
          "data": {
            "text/plain": [
              "    label                                            comment  \\\n",
              "0       0                                           Your mom   \n",
              "1       0       I'm curious, how much for the White Photons?   \n",
              "2       0                            Khloe Kardashian effect   \n",
              "3       0                                Knowledge is power!   \n",
              "4       0  Get the Prussians (Germans) to pay for a statu...   \n",
              "5       1  Now we can get those coal miners back to dying...   \n",
              "6       0                   B-but that's NotRealCommunism^TM   \n",
              "7       0  Not as good of an episode but I still lost it ...   \n",
              "8       0  when you control the memes, you control the cr...   \n",
              "9       0                  Are you sure he didn't say bread?   \n",
              "10      0                                           Worth it   \n",
              "11      0        Check his post history dude is batshit nuts   \n",
              "12      0                       definitely best, very clever   \n",
              "13      0  This feels like a post from that sub that was ...   \n",
              "14      0         Fred chillin with Ron 'Orgasm Taker' Baker   \n",
              "15      0       Ooh yeah it looked good but was blurry sadly   \n",
              "16      0                 I can see where you're coming from   \n",
              "17      0  Because you haven't watched all of our games, ...   \n",
              "18      0  As long as Doc Rivers is the coach and Boogie'...   \n",
              "19      0     can't catch an STD if you've already got it...   \n",
              "\n",
              "                 author             subreddit  score  ups  downs     date  \\\n",
              "0             Ronan3463             teenagers      1   -1     -1  2017-04   \n",
              "1               NCJoe97  RocketLeagueExchange      1   -1     -1  2017-02   \n",
              "2                grpocz                   nba      1   -1     -1  2017-03   \n",
              "3      Wolfy_McDerpbutt            darksouls3      1   -1     -1  2017-02   \n",
              "4          Warthog_A-10               ireland      1   -1     -1  2017-02   \n",
              "5        superlemonmaze              politics     11   -1     -1  2017-02   \n",
              "6           Muffinator4                  pics      3   -1     -1  2016-11   \n",
              "7             CheapBeer               TheMick     10   -1     -1  2017-02   \n",
              "8           ericredbike            The_Donald      3   -1     -1  2016-11   \n",
              "9               kenlane      NewYorkIslanders      1   -1     -1  2017-03   \n",
              "10         -lumpinator-             australia      2   -1     -1  2017-03   \n",
              "11             kdog1147              politics      3   -1     -1  2017-02   \n",
              "12         ediblegenius             Powerless      7   -1     -1  2017-02   \n",
              "13  AnotherScoutTrooper             Overwatch     11   -1     -1  2017-02   \n",
              "14        ModernPoultry        torontoraptors      3   -1     -1  2017-03   \n",
              "15            jason2306               horizon      1   -1     -1  2017-03   \n",
              "16           Octember24             teenagers      1   -1     -1  2017-04   \n",
              "17          totosmaster                hockey     11   -1     -1  2017-03   \n",
              "18           YizWasHere                   nba     19   -1     -1  2017-03   \n",
              "19           hydrohydro                   WTF      4   -1     -1  2017-04   \n",
              "\n",
              "    created_utc                                     parent_comment  \n",
              "0    1491694828               What are you doing 3 hours from now?  \n",
              "1    1487092935  Painted Exotics, wheels, Toppers and more Pain...  \n",
              "2    1489376837  That was some of the worst defensive reboundin...  \n",
              "3    1485992580  almost 400 hours in and I thought you were jus...  \n",
              "4    1486081980  I wouldn't mind if we got a bit keener about o...  \n",
              "5    1485913841  Say goodbye to worker's rights Say hello to th...  \n",
              "6    1479764418  Communism has a great track record though. Sta...  \n",
              "7    1485915315               The Mick - S01E07 - The Country Club  \n",
              "8    1478681576  Congrats to Trump, the first president to be m...  \n",
              "9    1491004749  Guys Brendan said something funny, hoping you ...  \n",
              "10   1490076198  Hmm, wonder what the pay cut is for 75 minutes...  \n",
              "11   1488057758                   Lol. Biased does not equal fake.  \n",
              "12   1486086461  So far so good. Seems like they have a lot of ...  \n",
              "13   1487271557                   This post was made for that sub.  \n",
              "14   1489972678   Who knew that Fred VanVleet was in a commercial?  \n",
              "15   1490186957                      Killzone Shadow Fall, ops lol  \n",
              "16   1492013436    I know... I love reading but just not books lol  \n",
              "17   1489873911  Then why does it feel like we have the worst p...  \n",
              "18   1488505190  All NBA Complain Team It's no rare occurrence ...  \n",
              "19   1493260705         Bro you'd get like 30 different STDs I bet  "
            ],
            "text/html": [
              "\n",
              "  <div id=\"df-38651b94-8a03-4342-97ba-2ec3b3a80a76\" class=\"colab-df-container\">\n",
              "    <div>\n",
              "<style scoped>\n",
              "    .dataframe tbody tr th:only-of-type {\n",
              "        vertical-align: middle;\n",
              "    }\n",
              "\n",
              "    .dataframe tbody tr th {\n",
              "        vertical-align: top;\n",
              "    }\n",
              "\n",
              "    .dataframe thead th {\n",
              "        text-align: right;\n",
              "    }\n",
              "</style>\n",
              "<table border=\"1\" class=\"dataframe\">\n",
              "  <thead>\n",
              "    <tr style=\"text-align: right;\">\n",
              "      <th></th>\n",
              "      <th>label</th>\n",
              "      <th>comment</th>\n",
              "      <th>author</th>\n",
              "      <th>subreddit</th>\n",
              "      <th>score</th>\n",
              "      <th>ups</th>\n",
              "      <th>downs</th>\n",
              "      <th>date</th>\n",
              "      <th>created_utc</th>\n",
              "      <th>parent_comment</th>\n",
              "    </tr>\n",
              "  </thead>\n",
              "  <tbody>\n",
              "    <tr>\n",
              "      <th>0</th>\n",
              "      <td>0</td>\n",
              "      <td>Your mom</td>\n",
              "      <td>Ronan3463</td>\n",
              "      <td>teenagers</td>\n",
              "      <td>1</td>\n",
              "      <td>-1</td>\n",
              "      <td>-1</td>\n",
              "      <td>2017-04</td>\n",
              "      <td>1491694828</td>\n",
              "      <td>What are you doing 3 hours from now?</td>\n",
              "    </tr>\n",
              "    <tr>\n",
              "      <th>1</th>\n",
              "      <td>0</td>\n",
              "      <td>I'm curious, how much for the White Photons?</td>\n",
              "      <td>NCJoe97</td>\n",
              "      <td>RocketLeagueExchange</td>\n",
              "      <td>1</td>\n",
              "      <td>-1</td>\n",
              "      <td>-1</td>\n",
              "      <td>2017-02</td>\n",
              "      <td>1487092935</td>\n",
              "      <td>Painted Exotics, wheels, Toppers and more Pain...</td>\n",
              "    </tr>\n",
              "    <tr>\n",
              "      <th>2</th>\n",
              "      <td>0</td>\n",
              "      <td>Khloe Kardashian effect</td>\n",
              "      <td>grpocz</td>\n",
              "      <td>nba</td>\n",
              "      <td>1</td>\n",
              "      <td>-1</td>\n",
              "      <td>-1</td>\n",
              "      <td>2017-03</td>\n",
              "      <td>1489376837</td>\n",
              "      <td>That was some of the worst defensive reboundin...</td>\n",
              "    </tr>\n",
              "    <tr>\n",
              "      <th>3</th>\n",
              "      <td>0</td>\n",
              "      <td>Knowledge is power!</td>\n",
              "      <td>Wolfy_McDerpbutt</td>\n",
              "      <td>darksouls3</td>\n",
              "      <td>1</td>\n",
              "      <td>-1</td>\n",
              "      <td>-1</td>\n",
              "      <td>2017-02</td>\n",
              "      <td>1485992580</td>\n",
              "      <td>almost 400 hours in and I thought you were jus...</td>\n",
              "    </tr>\n",
              "    <tr>\n",
              "      <th>4</th>\n",
              "      <td>0</td>\n",
              "      <td>Get the Prussians (Germans) to pay for a statu...</td>\n",
              "      <td>Warthog_A-10</td>\n",
              "      <td>ireland</td>\n",
              "      <td>1</td>\n",
              "      <td>-1</td>\n",
              "      <td>-1</td>\n",
              "      <td>2017-02</td>\n",
              "      <td>1486081980</td>\n",
              "      <td>I wouldn't mind if we got a bit keener about o...</td>\n",
              "    </tr>\n",
              "    <tr>\n",
              "      <th>5</th>\n",
              "      <td>1</td>\n",
              "      <td>Now we can get those coal miners back to dying...</td>\n",
              "      <td>superlemonmaze</td>\n",
              "      <td>politics</td>\n",
              "      <td>11</td>\n",
              "      <td>-1</td>\n",
              "      <td>-1</td>\n",
              "      <td>2017-02</td>\n",
              "      <td>1485913841</td>\n",
              "      <td>Say goodbye to worker's rights Say hello to th...</td>\n",
              "    </tr>\n",
              "    <tr>\n",
              "      <th>6</th>\n",
              "      <td>0</td>\n",
              "      <td>B-but that's NotRealCommunism^TM</td>\n",
              "      <td>Muffinator4</td>\n",
              "      <td>pics</td>\n",
              "      <td>3</td>\n",
              "      <td>-1</td>\n",
              "      <td>-1</td>\n",
              "      <td>2016-11</td>\n",
              "      <td>1479764418</td>\n",
              "      <td>Communism has a great track record though. Sta...</td>\n",
              "    </tr>\n",
              "    <tr>\n",
              "      <th>7</th>\n",
              "      <td>0</td>\n",
              "      <td>Not as good of an episode but I still lost it ...</td>\n",
              "      <td>CheapBeer</td>\n",
              "      <td>TheMick</td>\n",
              "      <td>10</td>\n",
              "      <td>-1</td>\n",
              "      <td>-1</td>\n",
              "      <td>2017-02</td>\n",
              "      <td>1485915315</td>\n",
              "      <td>The Mick - S01E07 - The Country Club</td>\n",
              "    </tr>\n",
              "    <tr>\n",
              "      <th>8</th>\n",
              "      <td>0</td>\n",
              "      <td>when you control the memes, you control the cr...</td>\n",
              "      <td>ericredbike</td>\n",
              "      <td>The_Donald</td>\n",
              "      <td>3</td>\n",
              "      <td>-1</td>\n",
              "      <td>-1</td>\n",
              "      <td>2016-11</td>\n",
              "      <td>1478681576</td>\n",
              "      <td>Congrats to Trump, the first president to be m...</td>\n",
              "    </tr>\n",
              "    <tr>\n",
              "      <th>9</th>\n",
              "      <td>0</td>\n",
              "      <td>Are you sure he didn't say bread?</td>\n",
              "      <td>kenlane</td>\n",
              "      <td>NewYorkIslanders</td>\n",
              "      <td>1</td>\n",
              "      <td>-1</td>\n",
              "      <td>-1</td>\n",
              "      <td>2017-03</td>\n",
              "      <td>1491004749</td>\n",
              "      <td>Guys Brendan said something funny, hoping you ...</td>\n",
              "    </tr>\n",
              "    <tr>\n",
              "      <th>10</th>\n",
              "      <td>0</td>\n",
              "      <td>Worth it</td>\n",
              "      <td>-lumpinator-</td>\n",
              "      <td>australia</td>\n",
              "      <td>2</td>\n",
              "      <td>-1</td>\n",
              "      <td>-1</td>\n",
              "      <td>2017-03</td>\n",
              "      <td>1490076198</td>\n",
              "      <td>Hmm, wonder what the pay cut is for 75 minutes...</td>\n",
              "    </tr>\n",
              "    <tr>\n",
              "      <th>11</th>\n",
              "      <td>0</td>\n",
              "      <td>Check his post history dude is batshit nuts</td>\n",
              "      <td>kdog1147</td>\n",
              "      <td>politics</td>\n",
              "      <td>3</td>\n",
              "      <td>-1</td>\n",
              "      <td>-1</td>\n",
              "      <td>2017-02</td>\n",
              "      <td>1488057758</td>\n",
              "      <td>Lol. Biased does not equal fake.</td>\n",
              "    </tr>\n",
              "    <tr>\n",
              "      <th>12</th>\n",
              "      <td>0</td>\n",
              "      <td>definitely best, very clever</td>\n",
              "      <td>ediblegenius</td>\n",
              "      <td>Powerless</td>\n",
              "      <td>7</td>\n",
              "      <td>-1</td>\n",
              "      <td>-1</td>\n",
              "      <td>2017-02</td>\n",
              "      <td>1486086461</td>\n",
              "      <td>So far so good. Seems like they have a lot of ...</td>\n",
              "    </tr>\n",
              "    <tr>\n",
              "      <th>13</th>\n",
              "      <td>0</td>\n",
              "      <td>This feels like a post from that sub that was ...</td>\n",
              "      <td>AnotherScoutTrooper</td>\n",
              "      <td>Overwatch</td>\n",
              "      <td>11</td>\n",
              "      <td>-1</td>\n",
              "      <td>-1</td>\n",
              "      <td>2017-02</td>\n",
              "      <td>1487271557</td>\n",
              "      <td>This post was made for that sub.</td>\n",
              "    </tr>\n",
              "    <tr>\n",
              "      <th>14</th>\n",
              "      <td>0</td>\n",
              "      <td>Fred chillin with Ron 'Orgasm Taker' Baker</td>\n",
              "      <td>ModernPoultry</td>\n",
              "      <td>torontoraptors</td>\n",
              "      <td>3</td>\n",
              "      <td>-1</td>\n",
              "      <td>-1</td>\n",
              "      <td>2017-03</td>\n",
              "      <td>1489972678</td>\n",
              "      <td>Who knew that Fred VanVleet was in a commercial?</td>\n",
              "    </tr>\n",
              "    <tr>\n",
              "      <th>15</th>\n",
              "      <td>0</td>\n",
              "      <td>Ooh yeah it looked good but was blurry sadly</td>\n",
              "      <td>jason2306</td>\n",
              "      <td>horizon</td>\n",
              "      <td>1</td>\n",
              "      <td>-1</td>\n",
              "      <td>-1</td>\n",
              "      <td>2017-03</td>\n",
              "      <td>1490186957</td>\n",
              "      <td>Killzone Shadow Fall, ops lol</td>\n",
              "    </tr>\n",
              "    <tr>\n",
              "      <th>16</th>\n",
              "      <td>0</td>\n",
              "      <td>I can see where you're coming from</td>\n",
              "      <td>Octember24</td>\n",
              "      <td>teenagers</td>\n",
              "      <td>1</td>\n",
              "      <td>-1</td>\n",
              "      <td>-1</td>\n",
              "      <td>2017-04</td>\n",
              "      <td>1492013436</td>\n",
              "      <td>I know... I love reading but just not books lol</td>\n",
              "    </tr>\n",
              "    <tr>\n",
              "      <th>17</th>\n",
              "      <td>0</td>\n",
              "      <td>Because you haven't watched all of our games, ...</td>\n",
              "      <td>totosmaster</td>\n",
              "      <td>hockey</td>\n",
              "      <td>11</td>\n",
              "      <td>-1</td>\n",
              "      <td>-1</td>\n",
              "      <td>2017-03</td>\n",
              "      <td>1489873911</td>\n",
              "      <td>Then why does it feel like we have the worst p...</td>\n",
              "    </tr>\n",
              "    <tr>\n",
              "      <th>18</th>\n",
              "      <td>0</td>\n",
              "      <td>As long as Doc Rivers is the coach and Boogie'...</td>\n",
              "      <td>YizWasHere</td>\n",
              "      <td>nba</td>\n",
              "      <td>19</td>\n",
              "      <td>-1</td>\n",
              "      <td>-1</td>\n",
              "      <td>2017-03</td>\n",
              "      <td>1488505190</td>\n",
              "      <td>All NBA Complain Team It's no rare occurrence ...</td>\n",
              "    </tr>\n",
              "    <tr>\n",
              "      <th>19</th>\n",
              "      <td>0</td>\n",
              "      <td>can't catch an STD if you've already got it...</td>\n",
              "      <td>hydrohydro</td>\n",
              "      <td>WTF</td>\n",
              "      <td>4</td>\n",
              "      <td>-1</td>\n",
              "      <td>-1</td>\n",
              "      <td>2017-04</td>\n",
              "      <td>1493260705</td>\n",
              "      <td>Bro you'd get like 30 different STDs I bet</td>\n",
              "    </tr>\n",
              "  </tbody>\n",
              "</table>\n",
              "</div>\n",
              "    <div class=\"colab-df-buttons\">\n",
              "\n",
              "  <div class=\"colab-df-container\">\n",
              "    <button class=\"colab-df-convert\" onclick=\"convertToInteractive('df-38651b94-8a03-4342-97ba-2ec3b3a80a76')\"\n",
              "            title=\"Convert this dataframe to an interactive table.\"\n",
              "            style=\"display:none;\">\n",
              "\n",
              "  <svg xmlns=\"http://www.w3.org/2000/svg\" height=\"24px\" viewBox=\"0 -960 960 960\">\n",
              "    <path d=\"M120-120v-720h720v720H120Zm60-500h600v-160H180v160Zm220 220h160v-160H400v160Zm0 220h160v-160H400v160ZM180-400h160v-160H180v160Zm440 0h160v-160H620v160ZM180-180h160v-160H180v160Zm440 0h160v-160H620v160Z\"/>\n",
              "  </svg>\n",
              "    </button>\n",
              "\n",
              "  <style>\n",
              "    .colab-df-container {\n",
              "      display:flex;\n",
              "      gap: 12px;\n",
              "    }\n",
              "\n",
              "    .colab-df-convert {\n",
              "      background-color: #E8F0FE;\n",
              "      border: none;\n",
              "      border-radius: 50%;\n",
              "      cursor: pointer;\n",
              "      display: none;\n",
              "      fill: #1967D2;\n",
              "      height: 32px;\n",
              "      padding: 0 0 0 0;\n",
              "      width: 32px;\n",
              "    }\n",
              "\n",
              "    .colab-df-convert:hover {\n",
              "      background-color: #E2EBFA;\n",
              "      box-shadow: 0px 1px 2px rgba(60, 64, 67, 0.3), 0px 1px 3px 1px rgba(60, 64, 67, 0.15);\n",
              "      fill: #174EA6;\n",
              "    }\n",
              "\n",
              "    .colab-df-buttons div {\n",
              "      margin-bottom: 4px;\n",
              "    }\n",
              "\n",
              "    [theme=dark] .colab-df-convert {\n",
              "      background-color: #3B4455;\n",
              "      fill: #D2E3FC;\n",
              "    }\n",
              "\n",
              "    [theme=dark] .colab-df-convert:hover {\n",
              "      background-color: #434B5C;\n",
              "      box-shadow: 0px 1px 3px 1px rgba(0, 0, 0, 0.15);\n",
              "      filter: drop-shadow(0px 1px 2px rgba(0, 0, 0, 0.3));\n",
              "      fill: #FFFFFF;\n",
              "    }\n",
              "  </style>\n",
              "\n",
              "    <script>\n",
              "      const buttonEl =\n",
              "        document.querySelector('#df-38651b94-8a03-4342-97ba-2ec3b3a80a76 button.colab-df-convert');\n",
              "      buttonEl.style.display =\n",
              "        google.colab.kernel.accessAllowed ? 'block' : 'none';\n",
              "\n",
              "      async function convertToInteractive(key) {\n",
              "        const element = document.querySelector('#df-38651b94-8a03-4342-97ba-2ec3b3a80a76');\n",
              "        const dataTable =\n",
              "          await google.colab.kernel.invokeFunction('convertToInteractive',\n",
              "                                                    [key], {});\n",
              "        if (!dataTable) return;\n",
              "\n",
              "        const docLinkHtml = 'Like what you see? Visit the ' +\n",
              "          '<a target=\"_blank\" href=https://colab.research.google.com/notebooks/data_table.ipynb>data table notebook</a>'\n",
              "          + ' to learn more about interactive tables.';\n",
              "        element.innerHTML = '';\n",
              "        dataTable['output_type'] = 'display_data';\n",
              "        await google.colab.output.renderOutput(dataTable, element);\n",
              "        const docLink = document.createElement('div');\n",
              "        docLink.innerHTML = docLinkHtml;\n",
              "        element.appendChild(docLink);\n",
              "      }\n",
              "    </script>\n",
              "  </div>\n",
              "\n",
              "\n",
              "<div id=\"df-6cc7aa66-4a42-406a-ab95-58ed86fd9005\">\n",
              "  <button class=\"colab-df-quickchart\" onclick=\"quickchart('df-6cc7aa66-4a42-406a-ab95-58ed86fd9005')\"\n",
              "            title=\"Suggest charts.\"\n",
              "            style=\"display:none;\">\n",
              "\n",
              "<svg xmlns=\"http://www.w3.org/2000/svg\" height=\"24px\"viewBox=\"0 0 24 24\"\n",
              "     width=\"24px\">\n",
              "    <g>\n",
              "        <path d=\"M19 3H5c-1.1 0-2 .9-2 2v14c0 1.1.9 2 2 2h14c1.1 0 2-.9 2-2V5c0-1.1-.9-2-2-2zM9 17H7v-7h2v7zm4 0h-2V7h2v10zm4 0h-2v-4h2v4z\"/>\n",
              "    </g>\n",
              "</svg>\n",
              "  </button>\n",
              "\n",
              "<style>\n",
              "  .colab-df-quickchart {\n",
              "      --bg-color: #E8F0FE;\n",
              "      --fill-color: #1967D2;\n",
              "      --hover-bg-color: #E2EBFA;\n",
              "      --hover-fill-color: #174EA6;\n",
              "      --disabled-fill-color: #AAA;\n",
              "      --disabled-bg-color: #DDD;\n",
              "  }\n",
              "\n",
              "  [theme=dark] .colab-df-quickchart {\n",
              "      --bg-color: #3B4455;\n",
              "      --fill-color: #D2E3FC;\n",
              "      --hover-bg-color: #434B5C;\n",
              "      --hover-fill-color: #FFFFFF;\n",
              "      --disabled-bg-color: #3B4455;\n",
              "      --disabled-fill-color: #666;\n",
              "  }\n",
              "\n",
              "  .colab-df-quickchart {\n",
              "    background-color: var(--bg-color);\n",
              "    border: none;\n",
              "    border-radius: 50%;\n",
              "    cursor: pointer;\n",
              "    display: none;\n",
              "    fill: var(--fill-color);\n",
              "    height: 32px;\n",
              "    padding: 0;\n",
              "    width: 32px;\n",
              "  }\n",
              "\n",
              "  .colab-df-quickchart:hover {\n",
              "    background-color: var(--hover-bg-color);\n",
              "    box-shadow: 0 1px 2px rgba(60, 64, 67, 0.3), 0 1px 3px 1px rgba(60, 64, 67, 0.15);\n",
              "    fill: var(--button-hover-fill-color);\n",
              "  }\n",
              "\n",
              "  .colab-df-quickchart-complete:disabled,\n",
              "  .colab-df-quickchart-complete:disabled:hover {\n",
              "    background-color: var(--disabled-bg-color);\n",
              "    fill: var(--disabled-fill-color);\n",
              "    box-shadow: none;\n",
              "  }\n",
              "\n",
              "  .colab-df-spinner {\n",
              "    border: 2px solid var(--fill-color);\n",
              "    border-color: transparent;\n",
              "    border-bottom-color: var(--fill-color);\n",
              "    animation:\n",
              "      spin 1s steps(1) infinite;\n",
              "  }\n",
              "\n",
              "  @keyframes spin {\n",
              "    0% {\n",
              "      border-color: transparent;\n",
              "      border-bottom-color: var(--fill-color);\n",
              "      border-left-color: var(--fill-color);\n",
              "    }\n",
              "    20% {\n",
              "      border-color: transparent;\n",
              "      border-left-color: var(--fill-color);\n",
              "      border-top-color: var(--fill-color);\n",
              "    }\n",
              "    30% {\n",
              "      border-color: transparent;\n",
              "      border-left-color: var(--fill-color);\n",
              "      border-top-color: var(--fill-color);\n",
              "      border-right-color: var(--fill-color);\n",
              "    }\n",
              "    40% {\n",
              "      border-color: transparent;\n",
              "      border-right-color: var(--fill-color);\n",
              "      border-top-color: var(--fill-color);\n",
              "    }\n",
              "    60% {\n",
              "      border-color: transparent;\n",
              "      border-right-color: var(--fill-color);\n",
              "    }\n",
              "    80% {\n",
              "      border-color: transparent;\n",
              "      border-right-color: var(--fill-color);\n",
              "      border-bottom-color: var(--fill-color);\n",
              "    }\n",
              "    90% {\n",
              "      border-color: transparent;\n",
              "      border-bottom-color: var(--fill-color);\n",
              "    }\n",
              "  }\n",
              "</style>\n",
              "\n",
              "  <script>\n",
              "    async function quickchart(key) {\n",
              "      const quickchartButtonEl =\n",
              "        document.querySelector('#' + key + ' button');\n",
              "      quickchartButtonEl.disabled = true;  // To prevent multiple clicks.\n",
              "      quickchartButtonEl.classList.add('colab-df-spinner');\n",
              "      try {\n",
              "        const charts = await google.colab.kernel.invokeFunction(\n",
              "            'suggestCharts', [key], {});\n",
              "      } catch (error) {\n",
              "        console.error('Error during call to suggestCharts:', error);\n",
              "      }\n",
              "      quickchartButtonEl.classList.remove('colab-df-spinner');\n",
              "      quickchartButtonEl.classList.add('colab-df-quickchart-complete');\n",
              "    }\n",
              "    (() => {\n",
              "      let quickchartButtonEl =\n",
              "        document.querySelector('#df-6cc7aa66-4a42-406a-ab95-58ed86fd9005 button');\n",
              "      quickchartButtonEl.style.display =\n",
              "        google.colab.kernel.accessAllowed ? 'block' : 'none';\n",
              "    })();\n",
              "  </script>\n",
              "</div>\n",
              "    </div>\n",
              "  </div>\n"
            ]
          },
          "metadata": {},
          "execution_count": 10
        }
      ]
    },
    {
      "cell_type": "code",
      "source": [
        "sarc_train['word_count'] = sarc_train['comment'].str.split().apply(len)\n",
        "sarc_train['parent_word_count'] = sarc_train['parent_comment'].str.split().apply(len)"
      ],
      "metadata": {
        "id": "7eydrvrqCZ2E"
      },
      "execution_count": 11,
      "outputs": []
    },
    {
      "cell_type": "code",
      "source": [
        "sarc_test['word_count'] = sarc_test['comment'].str.split().apply(len)\n",
        "sarc_test['parent_word_count'] = sarc_test['parent_comment'].str.split().apply(len)"
      ],
      "metadata": {
        "id": "N_7SzcaCCeOW"
      },
      "execution_count": 12,
      "outputs": []
    },
    {
      "cell_type": "markdown",
      "source": [
        "# Some EDA"
      ],
      "metadata": {
        "id": "WS3Ccv-FB7pS"
      }
    },
    {
      "cell_type": "code",
      "source": [
        "sarc_train.columns"
      ],
      "metadata": {
        "colab": {
          "base_uri": "https://localhost:8080/"
        },
        "id": "itvYXCbdA02D",
        "outputId": "825e2cfb-118b-430a-94cf-622bdb0d4678"
      },
      "execution_count": 13,
      "outputs": [
        {
          "output_type": "execute_result",
          "data": {
            "text/plain": [
              "Index(['label', 'comment', 'author', 'subreddit', 'score', 'ups', 'downs',\n",
              "       'date', 'created_utc', 'parent_comment', 'word_count',\n",
              "       'parent_word_count'],\n",
              "      dtype='object')"
            ]
          },
          "metadata": {},
          "execution_count": 13
        }
      ]
    },
    {
      "cell_type": "markdown",
      "source": [
        "## Is sarcasm related to the number of words in the response?"
      ],
      "metadata": {
        "id": "GNf8NuvYFVse"
      }
    },
    {
      "cell_type": "code",
      "source": [
        "sarc_train[sarc_train['label']==0]['word_count'].value_counts().head(10)"
      ],
      "metadata": {
        "colab": {
          "base_uri": "https://localhost:8080/"
        },
        "id": "nxnzaM-wA0zm",
        "outputId": "57bb7a96-1d73-440e-ef69-4207b179517c"
      },
      "execution_count": 14,
      "outputs": [
        {
          "output_type": "execute_result",
          "data": {
            "text/plain": [
              "5     39028\n",
              "4     38662\n",
              "6     37802\n",
              "3     36263\n",
              "7     35587\n",
              "1     35010\n",
              "8     33181\n",
              "2     32953\n",
              "9     29736\n",
              "10    27006\n",
              "Name: word_count, dtype: int64"
            ]
          },
          "metadata": {},
          "execution_count": 14
        }
      ]
    },
    {
      "cell_type": "code",
      "source": [
        "sarc_train[sarc_train['label']==1]['word_count'].value_counts().head(10)"
      ],
      "metadata": {
        "colab": {
          "base_uri": "https://localhost:8080/"
        },
        "id": "t2yCKlhgA0xM",
        "outputId": "d7e9794b-c570-47d4-834b-dfcbb373e8dc"
      },
      "execution_count": 15,
      "outputs": [
        {
          "output_type": "execute_result",
          "data": {
            "text/plain": [
              "6     43299\n",
              "7     43132\n",
              "8     41304\n",
              "5     40351\n",
              "9     38244\n",
              "10    35097\n",
              "4     34817\n",
              "11    31637\n",
              "3     28032\n",
              "12    27973\n",
              "Name: word_count, dtype: int64"
            ]
          },
          "metadata": {},
          "execution_count": 15
        }
      ]
    },
    {
      "cell_type": "code",
      "source": [
        "sarc_words = sarc_train[sarc_train['word_count']<50]\n",
        "sns.countplot(data=sarc_words, x='word_count', hue='label')\n",
        "x_ticks = range(0, 50, 5)        # we limited word_count<50\n",
        "plt.xticks(x_ticks, x_ticks, rotation=45)\n",
        "plt.title('Word Count in Responses')\n",
        "plt.show()"
      ],
      "metadata": {
        "colab": {
          "base_uri": "https://localhost:8080/",
          "height": 480
        },
        "id": "_cr5G3_ODKs1",
        "outputId": "d6252578-ebaa-4a74-d151-a350d1188b0e"
      },
      "execution_count": 18,
      "outputs": [
        {
          "output_type": "display_data",
          "data": {
            "text/plain": [
              "<Figure size 640x480 with 1 Axes>"
            ],
            "image/png": "[encoded data removed]"
          },
          "metadata": {}
        }
      ]
    },
    {
      "cell_type": "code",
      "source": [
        "sarc_parent_words = sarc_train[sarc_train['parent_word_count']<50]\n",
        "sns.countplot(data=sarc_parent_words, x='parent_word_count', hue='label')\n",
        "x_ticks = range(0, 50, 5)        # we limited word_count<50\n",
        "plt.xticks(x_ticks, x_ticks, rotation=45)\n",
        "plt.title('Word Count in Parent Comments')\n",
        "plt.show()"
      ],
      "metadata": {
        "colab": {
          "base_uri": "https://localhost:8080/",
          "height": 480
        },
        "id": "8yYHYknwA0t4",
        "outputId": "f7cc124a-42d7-4c11-a4d4-e30f712f8dbf"
      },
      "execution_count": 17,
      "outputs": [
        {
          "output_type": "display_data",
          "data": {
            "text/plain": [
              "<Figure size 640x480 with 1 Axes>"
            ],
            "image/png": "[encoded data removed]"
          },
          "metadata": {}
        }
      ]
    },
    {
      "cell_type": "markdown",
      "source": [
        "## Is sarcasm related to the author or subreddit?"
      ],
      "metadata": {
        "id": "f-Hb4EFeG_gc"
      }
    },
    {
      "cell_type": "code",
      "source": [
        "sarc_train['author'].value_counts().head(20)"
      ],
      "metadata": {
        "colab": {
          "base_uri": "https://localhost:8080/"
        },
        "id": "0fuSznSpA0k5",
        "outputId": "ad3d8e5b-60ad-426a-bf21-ae7fdca2da9b"
      },
      "execution_count": 20,
      "outputs": [
        {
          "output_type": "execute_result",
          "data": {
            "text/plain": [
              "Biffingston          822\n",
              "pokemon_fetish       446\n",
              "EggCouncil           440\n",
              "NeonDisease          431\n",
              "mindlessrabble       382\n",
              "ShyBiDude89          376\n",
              "mad-n-fla            374\n",
              "sleaze_bag_alert     356\n",
              "ivsciguy             336\n",
              "Chaoslab             300\n",
              "Canada_girl          296\n",
              "DownvoteDaemon       258\n",
              "Bipolarruledout      246\n",
              "IrishJoe             244\n",
              "kurisu7885           244\n",
              "tau-lepton           241\n",
              "richardleosimones    236\n",
              "gonzone              230\n",
              "InFearn0             222\n",
              "PianoRainMelody      213\n",
              "Name: author, dtype: int64"
            ]
          },
          "metadata": {},
          "execution_count": 20
        }
      ]
    },
    {
      "cell_type": "code",
      "source": [
        "most_author = sarc_train['author'].value_counts().head(20)\n",
        "sarc_author = sarc_train[sarc_train['author'].isin(most_author.index)]\n",
        "sarc_author['author'].value_counts()"
      ],
      "metadata": {
        "colab": {
          "base_uri": "https://localhost:8080/"
        },
        "id": "PhnQMifQHLen",
        "outputId": "358db40f-4d88-4f39-e830-6f21b63fe672"
      },
      "execution_count": 28,
      "outputs": [
        {
          "output_type": "execute_result",
          "data": {
            "text/plain": [
              "Biffingston          822\n",
              "pokemon_fetish       446\n",
              "EggCouncil           440\n",
              "NeonDisease          431\n",
              "mindlessrabble       382\n",
              "ShyBiDude89          376\n",
              "mad-n-fla            374\n",
              "sleaze_bag_alert     356\n",
              "ivsciguy             336\n",
              "Chaoslab             300\n",
              "Canada_girl          296\n",
              "DownvoteDaemon       258\n",
              "Bipolarruledout      246\n",
              "kurisu7885           244\n",
              "IrishJoe             244\n",
              "tau-lepton           241\n",
              "richardleosimones    236\n",
              "gonzone              230\n",
              "InFearn0             222\n",
              "PianoRainMelody      213\n",
              "Name: author, dtype: int64"
            ]
          },
          "metadata": {},
          "execution_count": 28
        }
      ]
    },
    {
      "cell_type": "code",
      "source": [
        "sns.countplot(data=sarc_author, x='author', hue='label')\n",
        "plt.xticks(rotation=45)\n",
        "plt.title('Most popular authors')\n",
        "plt.show()"
      ],
      "metadata": {
        "colab": {
          "base_uri": "https://localhost:8080/",
          "height": 559
        },
        "id": "ZRcJuK0WHnxO",
        "outputId": "1e7200e1-42ae-4a34-971e-781e2a0d754c"
      },
      "execution_count": 29,
      "outputs": [
        {
          "output_type": "display_data",
          "data": {
            "text/plain": [
              "<Figure size 640x480 with 1 Axes>"
            ],
            "image/png": "[encoded data removed]"
          },
          "metadata": {}
        }
      ]
    },
    {
      "cell_type": "code",
      "source": [
        "sarc_train['subreddit'].value_counts().head(20)"
      ],
      "metadata": {
        "colab": {
          "base_uri": "https://localhost:8080/"
        },
        "id": "aTXQGkNOIE_8",
        "outputId": "271ef595-1d5e-48df-a74c-783620022090"
      },
      "execution_count": 30,
      "outputs": [
        {
          "output_type": "execute_result",
          "data": {
            "text/plain": [
              "AskReddit          70409\n",
              "politics           46914\n",
              "worldnews          27999\n",
              "leagueoflegends    21172\n",
              "pcmasterrace       19675\n",
              "news               18529\n",
              "funny              18344\n",
              "pics               16876\n",
              "nba                16696\n",
              "nfl                15585\n",
              "todayilearned      14619\n",
              "The_Donald         14239\n",
              "GlobalOffensive    13957\n",
              "AdviceAnimals      13287\n",
              "videos             12597\n",
              "gaming             12278\n",
              "hockey              9776\n",
              "WTF                 9359\n",
              "soccer              8899\n",
              "TumblrInAction      7644\n",
              "Name: subreddit, dtype: int64"
            ]
          },
          "metadata": {},
          "execution_count": 30
        }
      ]
    },
    {
      "cell_type": "code",
      "source": [
        "most_subreddit = sarc_train['subreddit'].value_counts().head(20)\n",
        "sarc_subreddit = sarc_train[sarc_train['subreddit'].isin(most_subreddit.index)]\n",
        "sarc_subreddit['subreddit'].value_counts()"
      ],
      "metadata": {
        "colab": {
          "base_uri": "https://localhost:8080/"
        },
        "id": "EeL7Tc19IJFU",
        "outputId": "9dcf1857-811e-40e6-830a-3dae84f88b01"
      },
      "execution_count": 31,
      "outputs": [
        {
          "output_type": "execute_result",
          "data": {
            "text/plain": [
              "AskReddit          70409\n",
              "politics           46914\n",
              "worldnews          27999\n",
              "leagueoflegends    21172\n",
              "pcmasterrace       19675\n",
              "news               18529\n",
              "funny              18344\n",
              "pics               16876\n",
              "nba                16696\n",
              "nfl                15585\n",
              "todayilearned      14619\n",
              "The_Donald         14239\n",
              "GlobalOffensive    13957\n",
              "AdviceAnimals      13287\n",
              "videos             12597\n",
              "gaming             12278\n",
              "hockey              9776\n",
              "WTF                 9359\n",
              "soccer              8899\n",
              "TumblrInAction      7644\n",
              "Name: subreddit, dtype: int64"
            ]
          },
          "metadata": {},
          "execution_count": 31
        }
      ]
    },
    {
      "cell_type": "code",
      "source": [
        "sarc_subreddit['label'].value_counts()"
      ],
      "metadata": {
        "colab": {
          "base_uri": "https://localhost:8080/"
        },
        "id": "j0Jf1kyhIRvj",
        "outputId": "03081907-6e6f-48ba-9fbf-d22bbf33cb23"
      },
      "execution_count": 32,
      "outputs": [
        {
          "output_type": "execute_result",
          "data": {
            "text/plain": [
              "1    202931\n",
              "0    185923\n",
              "Name: label, dtype: int64"
            ]
          },
          "metadata": {},
          "execution_count": 32
        }
      ]
    },
    {
      "cell_type": "code",
      "source": [
        "sns.countplot(data=sarc_subreddit, x='subreddit', hue='label')\n",
        "plt.xticks(rotation=45)\n",
        "plt.title('Most popular subreddits')\n",
        "plt.show()"
      ],
      "metadata": {
        "colab": {
          "base_uri": "https://localhost:8080/",
          "height": 549
        },
        "id": "JWSX5XUNIW5k",
        "outputId": "c511eb81-c548-44b2-d3e7-47f2cacdd940"
      },
      "execution_count": 33,
      "outputs": [
        {
          "output_type": "display_data",
          "data": {
            "text/plain": [
              "<Figure size 640x480 with 1 Axes>"
            ],
            "image/png": "[encoded data removed]"
          },
          "metadata": {}
        }
      ]
    },
    {
      "cell_type": "markdown",
      "source": [
        "## How does score, ups, and downs affect sarcasm?"
      ],
      "metadata": {
        "id": "DS1ON7MkIm11"
      }
    },
    {
      "cell_type": "code",
      "source": [
        "sarc_train['score'].value_counts().head(20)"
      ],
      "metadata": {
        "colab": {
          "base_uri": "https://localhost:8080/"
        },
        "id": "fBtQ3QlGIdsz",
        "outputId": "e27f3c04-4a5e-463d-890f-2c8e65dc6141"
      },
      "execution_count": 36,
      "outputs": [
        {
          "output_type": "execute_result",
          "data": {
            "text/plain": [
              " 1     375095\n",
              " 2     182033\n",
              " 3     102532\n",
              " 0      61212\n",
              " 4      47503\n",
              " 5      44066\n",
              " 6      33801\n",
              " 7      25924\n",
              "-1      23466\n",
              " 8      20516\n",
              " 9      16734\n",
              " 10     13792\n",
              "-2      12480\n",
              " 11     11457\n",
              " 12     10025\n",
              " 13      8309\n",
              " 14      7367\n",
              "-3       6839\n",
              " 15      6336\n",
              " 16      5779\n",
              "Name: score, dtype: int64"
            ]
          },
          "metadata": {},
          "execution_count": 36
        }
      ]
    },
    {
      "cell_type": "code",
      "source": [
        "sarc_score = sarc_train[(sarc_train['score']<20) & (sarc_train['score']>-5)]\n",
        "sns.countplot(data=sarc_score, x='score', hue='label')\n",
        "x_ticks = range(-5, 25, 5)        # we limited word_count<50\n",
        "plt.xticks(x_ticks, x_ticks, rotation=45)\n",
        "plt.title('Score and Sarcasm')\n",
        "plt.show()"
      ],
      "metadata": {
        "colab": {
          "base_uri": "https://localhost:8080/",
          "height": 480
        },
        "id": "9Pq4ICBqKNYZ",
        "outputId": "4670656b-23c5-4951-9314-251edd2848b4"
      },
      "execution_count": 41,
      "outputs": [
        {
          "output_type": "display_data",
          "data": {
            "text/plain": [
              "<Figure size 640x480 with 1 Axes>"
            ],
            "image/png": "[encoded data removed]"
          },
          "metadata": {}
        }
      ]
    },
    {
      "cell_type": "code",
      "source": [
        "sarc_train['ups'].value_counts().head(20)"
      ],
      "metadata": {
        "colab": {
          "base_uri": "https://localhost:8080/"
        },
        "id": "091BtU85I1Ch",
        "outputId": "a4d37d72-d7a2-4550-c3b1-c44aff042d7c"
      },
      "execution_count": 37,
      "outputs": [
        {
          "output_type": "execute_result",
          "data": {
            "text/plain": [
              "-1     348883\n",
              " 1     266340\n",
              " 2     128438\n",
              " 3      71251\n",
              " 0      48074\n",
              " 4      33148\n",
              " 5      30552\n",
              " 6      23123\n",
              " 7      17741\n",
              " 8      13960\n",
              " 9      11371\n",
              "-2      10038\n",
              " 10      9219\n",
              " 11      7814\n",
              " 12      6689\n",
              "-3       5521\n",
              " 13      5485\n",
              " 14      4959\n",
              "-4       4477\n",
              " 15      4138\n",
              "Name: ups, dtype: int64"
            ]
          },
          "metadata": {},
          "execution_count": 37
        }
      ]
    },
    {
      "cell_type": "code",
      "source": [
        "sarc_ups = sarc_train[(sarc_train['ups']<20) & (sarc_train['ups']>-5)]\n",
        "sns.countplot(data=sarc_ups, x='ups', hue='label')\n",
        "x_ticks = range(-5, 25, 5)        # we limited word_count<50\n",
        "plt.xticks(x_ticks, x_ticks, rotation=45)\n",
        "plt.title('Ups and Sarcasm')\n",
        "plt.show()"
      ],
      "metadata": {
        "colab": {
          "base_uri": "https://localhost:8080/",
          "height": 480
        },
        "id": "m1jjRFNwKrhX",
        "outputId": "6b1ca440-3dd3-4223-c7c5-8e72cfff46d2"
      },
      "execution_count": 42,
      "outputs": [
        {
          "output_type": "display_data",
          "data": {
            "text/plain": [
              "<Figure size 640x480 with 1 Axes>"
            ],
            "image/png": "[encoded data removed]"
          },
          "metadata": {}
        }
      ]
    },
    {
      "cell_type": "code",
      "source": [
        "sarc_train['downs'].value_counts().head(20)"
      ],
      "metadata": {
        "colab": {
          "base_uri": "https://localhost:8080/"
        },
        "id": "pkPBy1_LJJOJ",
        "outputId": "e5196d03-be7f-484c-93f3-85dab8a0ca02"
      },
      "execution_count": 38,
      "outputs": [
        {
          "output_type": "execute_result",
          "data": {
            "text/plain": [
              " 0    795621\n",
              "-1    330048\n",
              "Name: downs, dtype: int64"
            ]
          },
          "metadata": {},
          "execution_count": 38
        }
      ]
    },
    {
      "cell_type": "code",
      "source": [
        "sns.countplot(data=sarc_train, x='downs', hue='label')\n",
        "plt.title('Downs and Sarcasm')\n",
        "plt.show()"
      ],
      "metadata": {
        "colab": {
          "base_uri": "https://localhost:8080/",
          "height": 472
        },
        "id": "_R7gO6skJL6S",
        "outputId": "870fbaab-36f1-480c-fe4e-d1cda248f072"
      },
      "execution_count": 44,
      "outputs": [
        {
          "output_type": "display_data",
          "data": {
            "text/plain": [
              "<Figure size 640x480 with 1 Axes>"
            ],
            "image/png": "[encoded data removed]"
          },
          "metadata": {}
        }
      ]
    },
    {
      "cell_type": "code",
      "source": [],
      "metadata": {
        "id": "Aw8qk4VNK8C8"
      },
      "execution_count": null,
      "outputs": []
    }
  ],
  "metadata": {
    "colab": {
      "provenance": [],
      "toc_visible": true,
      "include_colab_link": true
    },
    "kernelspec": {
      "display_name": "Python 3",
      "name": "python3"
    },
    "language_info": {
      "name": "python"
    }
  },
  "nbformat": 4,
  "nbformat_minor": 0
}
